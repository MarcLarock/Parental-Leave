{
 "cells": [
  {
   "cell_type": "markdown",
   "metadata": {},
   "source": [
    "# Parental Leave \n",
    "*** \n",
    "\n",
    "#### What regional differences are there with respect to paid parental leave policies for tenure track faculty members at North American colleges and universities?"
   ]
  },
  {
   "cell_type": "code",
   "execution_count": 1,
   "metadata": {},
   "outputs": [],
   "source": [
    "import numpy as np \n",
    "import pandas as pd\n",
    "import matplotlib.pylab as plt \n",
    "from scipy.special import binom\n",
    "import math\n",
    "import itertools\n",
    "%matplotlib inline\n",
    "import matplotlib.lines as lines\n",
    "import random\n",
    "from scipy import stats"
   ]
  },
  {
   "cell_type": "code",
   "execution_count": 202,
   "metadata": {},
   "outputs": [
    {
     "data": {
      "text/html": [
       "<div>\n",
       "<style>\n",
       "    .dataframe thead tr:only-child th {\n",
       "        text-align: right;\n",
       "    }\n",
       "\n",
       "    .dataframe thead th {\n",
       "        text-align: left;\n",
       "    }\n",
       "\n",
       "    .dataframe tbody tr th {\n",
       "        vertical-align: top;\n",
       "    }\n",
       "</style>\n",
       "<table border=\"1\" class=\"dataframe\">\n",
       "  <thead>\n",
       "    <tr style=\"text-align: right;\">\n",
       "      <th></th>\n",
       "      <th>university_name</th>\n",
       "      <th>short_name</th>\n",
       "      <th>is_private</th>\n",
       "      <th>rank</th>\n",
       "      <th>rank_ind</th>\n",
       "      <th>census_region</th>\n",
       "      <th>missing</th>\n",
       "      <th>paid_leave_len_woman</th>\n",
       "      <th>paid_leave_len_woman_units</th>\n",
       "      <th>paid_leave_weeks_woman</th>\n",
       "      <th>relief_woman</th>\n",
       "      <th>paid_leave_len_man</th>\n",
       "      <th>paid_leave_len_man_units</th>\n",
       "      <th>paid_leave_weeks_man</th>\n",
       "      <th>relief_man</th>\n",
       "      <th>link</th>\n",
       "      <th>notes</th>\n",
       "      <th>date</th>\n",
       "    </tr>\n",
       "  </thead>\n",
       "  <tbody>\n",
       "    <tr>\n",
       "      <th>0</th>\n",
       "      <td>Arizona State University</td>\n",
       "      <td>Arizona State</td>\n",
       "      <td>0</td>\n",
       "      <td>108.72</td>\n",
       "      <td>101</td>\n",
       "      <td>West</td>\n",
       "      <td>0</td>\n",
       "      <td>6.0</td>\n",
       "      <td>week</td>\n",
       "      <td>6.0</td>\n",
       "      <td>Not specified</td>\n",
       "      <td>6.0</td>\n",
       "      <td>week</td>\n",
       "      <td>6.0</td>\n",
       "      <td>Not specified</td>\n",
       "      <td>https://provost.asu.edu/academic-personnel/par...</td>\n",
       "      <td>.</td>\n",
       "      <td>2/22/18</td>\n",
       "    </tr>\n",
       "    <tr>\n",
       "      <th>1</th>\n",
       "      <td>Auburn University</td>\n",
       "      <td>Auburn</td>\n",
       "      <td>0</td>\n",
       "      <td>126.69</td>\n",
       "      <td>122</td>\n",
       "      <td>South</td>\n",
       "      <td>0</td>\n",
       "      <td>0.0</td>\n",
       "      <td>NaN</td>\n",
       "      <td>0.0</td>\n",
       "      <td>NaN</td>\n",
       "      <td>0.0</td>\n",
       "      <td>NaN</td>\n",
       "      <td>0.0</td>\n",
       "      <td>NaN</td>\n",
       "      <td>https://cws.auburn.edu/shared/content/files/85/</td>\n",
       "      <td>FMLA</td>\n",
       "      <td>2/22/18</td>\n",
       "    </tr>\n",
       "    <tr>\n",
       "      <th>2</th>\n",
       "      <td>Boston University</td>\n",
       "      <td>Boston</td>\n",
       "      <td>1</td>\n",
       "      <td>51.73</td>\n",
       "      <td>44</td>\n",
       "      <td>Northeast</td>\n",
       "      <td>0</td>\n",
       "      <td>1.0</td>\n",
       "      <td>term</td>\n",
       "      <td>14.0</td>\n",
       "      <td>Other</td>\n",
       "      <td>1.0</td>\n",
       "      <td>term</td>\n",
       "      <td>14.0</td>\n",
       "      <td>Other</td>\n",
       "      <td>https://www.bu.edu/handbook/leaves-absences/fa...</td>\n",
       "      <td>Full semester for either parent, relief is FUL...</td>\n",
       "      <td>2/22/18</td>\n",
       "    </tr>\n",
       "    <tr>\n",
       "      <th>3</th>\n",
       "      <td>Brandeis University</td>\n",
       "      <td>Brandeis</td>\n",
       "      <td>1</td>\n",
       "      <td>84.55</td>\n",
       "      <td>78</td>\n",
       "      <td>Northeast</td>\n",
       "      <td>0</td>\n",
       "      <td>12.0</td>\n",
       "      <td>week</td>\n",
       "      <td>12.0</td>\n",
       "      <td>Not specified</td>\n",
       "      <td>12.0</td>\n",
       "      <td>week</td>\n",
       "      <td>12.0</td>\n",
       "      <td>Not specified</td>\n",
       "      <td>https://www.brandeis.edu/humanresources/docume...</td>\n",
       "      <td>.</td>\n",
       "      <td>2/22/18</td>\n",
       "    </tr>\n",
       "    <tr>\n",
       "      <th>4</th>\n",
       "      <td>Brigham Young University</td>\n",
       "      <td>Brigham Young</td>\n",
       "      <td>1</td>\n",
       "      <td>166.53</td>\n",
       "      <td>180</td>\n",
       "      <td>West</td>\n",
       "      <td>1</td>\n",
       "      <td>NaN</td>\n",
       "      <td>NaN</td>\n",
       "      <td>NaN</td>\n",
       "      <td>NaN</td>\n",
       "      <td>NaN</td>\n",
       "      <td>NaN</td>\n",
       "      <td>NaN</td>\n",
       "      <td>NaN</td>\n",
       "      <td>Not publicly accessible</td>\n",
       "      <td>Staff leave is 6wk</td>\n",
       "      <td>2/22/18</td>\n",
       "    </tr>\n",
       "  </tbody>\n",
       "</table>\n",
       "</div>"
      ],
      "text/plain": [
       "            university_name     short_name  is_private    rank  rank_ind  \\\n",
       "0  Arizona State University  Arizona State           0  108.72       101   \n",
       "1         Auburn University         Auburn           0  126.69       122   \n",
       "2         Boston University         Boston           1   51.73        44   \n",
       "3       Brandeis University       Brandeis           1   84.55        78   \n",
       "4  Brigham Young University  Brigham Young           1  166.53       180   \n",
       "\n",
       "  census_region  missing  paid_leave_len_woman paid_leave_len_woman_units  \\\n",
       "0          West        0                   6.0                       week   \n",
       "1         South        0                   0.0                        NaN   \n",
       "2     Northeast        0                   1.0                       term   \n",
       "3     Northeast        0                  12.0                       week   \n",
       "4          West        1                   NaN                        NaN   \n",
       "\n",
       "   paid_leave_weeks_woman   relief_woman  paid_leave_len_man  \\\n",
       "0                     6.0  Not specified                 6.0   \n",
       "1                     0.0            NaN                 0.0   \n",
       "2                    14.0          Other                 1.0   \n",
       "3                    12.0  Not specified                12.0   \n",
       "4                     NaN            NaN                 NaN   \n",
       "\n",
       "  paid_leave_len_man_units  paid_leave_weeks_man     relief_man  \\\n",
       "0                     week                   6.0  Not specified   \n",
       "1                      NaN                   0.0            NaN   \n",
       "2                     term                  14.0          Other   \n",
       "3                     week                  12.0  Not specified   \n",
       "4                      NaN                   NaN            NaN   \n",
       "\n",
       "                                                link  \\\n",
       "0  https://provost.asu.edu/academic-personnel/par...   \n",
       "1    https://cws.auburn.edu/shared/content/files/85/   \n",
       "2  https://www.bu.edu/handbook/leaves-absences/fa...   \n",
       "3  https://www.brandeis.edu/humanresources/docume...   \n",
       "4                            Not publicly accessible   \n",
       "\n",
       "                                               notes     date  \n",
       "0                                                  .  2/22/18  \n",
       "1                                               FMLA  2/22/18  \n",
       "2  Full semester for either parent, relief is FUL...  2/22/18  \n",
       "3                                                  .  2/22/18  \n",
       "4                                 Staff leave is 6wk  2/22/18  "
      ]
     },
     "execution_count": 202,
     "metadata": {},
     "output_type": "execute_result"
    }
   ],
   "source": [
    "local_path = ''\n",
    "\n",
    "file_path = local_path \n",
    "\n",
    "dfLeave = pd.read_table(local_path)\n",
    " \n",
    "dfLeave.head()"
   ]
  },
  {
   "cell_type": "markdown",
   "metadata": {},
   "source": [
    "**Part A**: I will begin by answering the following summary questions:\n",
    "* How many institutions are in the dataset? \n",
    "* How many actually have parental leave data in the `paid_leave_len_woman` column? \n",
    "* How many private institutions are there? \n",
    "* How many institutions have a note associated with them?"
   ]
  },
  {
   "cell_type": "code",
   "execution_count": 203,
   "metadata": {},
   "outputs": [
    {
     "name": "stdout",
     "output_type": "stream",
     "text": [
      "There are 205 institutions in the dataset\n",
      "Number of institutions that actually have parental leave data: 197\n",
      "Number of institutions that are private in the dataset: 53\n",
      "Number of institutions that have a note associated with them: 174\n"
     ]
    }
   ],
   "source": [
    "institutions = dfLeave.shape[0]\n",
    "print(\"There are\", institutions, \"institutions in the dataset\")\n",
    "\n",
    "S = [1 if dfLeave[\"paid_leave_len_woman\"][i] >= 0 else 0 for i in range (dfLeave.shape[0])]\n",
    "Bool = np.array(S).sum()\n",
    "print(\"Number of institutions that actually have parental leave data:\", Bool)\n",
    "\n",
    "private = dfLeave[\"is_private\"].sum()\n",
    "print(\"Number of institutions that are private in the dataset:\", private)\n",
    "\n",
    "dfNote = dfLeave.loc[dfLeave[\"notes\"] != \"\"]\n",
    "dfNote = dfNote.loc[dfNote[\"notes\"] != \".\"]\n",
    "notes = dfNote.shape[0]\n",
    "print(\"Number of institutions that have a note associated with them:\", notes)"
   ]
  },
  {
   "cell_type": "markdown",
   "metadata": {},
   "source": [
    "**Part B**: Is there statistical evidence at the $\\alpha=0.05$ level that public and private institutions have different _average paid parental leave durations_? \n",
    "\n",
    "I will answer this question separately for men and for women. "
   ]
  },
  {
   "cell_type": "markdown",
   "metadata": {},
   "source": [
    "First, I will clean the data to eliminate any NaN values in the relevant columns of the data frame."
   ]
  },
  {
   "cell_type": "code",
   "execution_count": 204,
   "metadata": {},
   "outputs": [
    {
     "data": {
      "text/plain": [
       "197"
      ]
     },
     "execution_count": 204,
     "metadata": {},
     "output_type": "execute_result"
    }
   ],
   "source": [
    "dfLeaveC = dfLeave.drop(dfLeave.index[dfLeave[\"missing\"]==1])\n",
    "dfLeaveC.head()\n",
    "dfLeaveC.shape[0]"
   ]
  },
  {
   "cell_type": "markdown",
   "metadata": {
    "collapsed": true
   },
   "source": [
    "Let $\\mu$ be the difference in mean paid paternal leave (in weeks) for men and women at private and public schools. Then:\n",
    "\n",
    "$$\n",
    "\\begin{array}{l}\n",
    "H_0: \\mu = 0  \\\\\n",
    "H_1: \\mu \\neq 0  \\\\\n",
    "\\end{array}\n",
    "$$"
   ]
  },
  {
   "cell_type": "markdown",
   "metadata": {},
   "source": [
    "In this problem, I will use a two-tailed hypothesis test. I will also use z-scores, because we are testing sample means, which are normally distributed. Also, the data is sufficiently large, so we can rule out a t-test. "
   ]
  },
  {
   "cell_type": "markdown",
   "metadata": {},
   "source": [
    "I will break this problem up into smaller problems. First, I will extract the appropriate data for the mean time of paternal leave for men at public and private schools. Then I will compute a two-sided critical value $-z_\\alpha = -z_{0.025}$ to compare their leave times. After I have made the relevant comparisons for men I will then do the same comparison for women before drawing my overall conclusion."
   ]
  },
  {
   "cell_type": "code",
   "execution_count": 205,
   "metadata": {},
   "outputs": [
    {
     "name": "stdout",
     "output_type": "stream",
     "text": [
      "Sample Mean for Men at Private Schools = 8.92\n",
      "Sample Mean for Men at Public Schools = 6.15\n"
     ]
    }
   ],
   "source": [
    "MenPrivate = dfLeaveC.loc[dfLeaveC[\"is_private\"] == 1, \"paid_leave_weeks_man\"].mean()\n",
    "print(\"Sample Mean for Men at Private Schools = {:.2f}\".format(MenPrivate))\n",
    "MenPublic = dfLeaveC.loc[dfLeaveC[\"is_private\"] == 0, \"paid_leave_weeks_man\"].mean()\n",
    "print(\"Sample Mean for Men at Public Schools = {:.2f}\".format(MenPublic))"
   ]
  },
  {
   "cell_type": "code",
   "execution_count": 206,
   "metadata": {},
   "outputs": [
    {
     "name": "stdout",
     "output_type": "stream",
     "text": [
      "-za =  1.95996398454\n",
      "z =  2.34456338305\n"
     ]
    }
   ],
   "source": [
    "za = stats.norm.ppf(0.025)#0.025 instead of 0.975 because we want the positive end of the spectrum\n",
    "print(\"-za = \", -za)\n",
    "\n",
    "delta_mean = MenPrivate-MenPublic\n",
    "\n",
    "stderrPrivate = dfLeaveC.loc[dfLeaveC[\"is_private\"] == 1, \"paid_leave_weeks_man\"].std()/np.sqrt(48)\n",
    "stderrPublic = dfLeaveC.loc[dfLeaveC[\"is_private\"] == 0, \"paid_leave_weeks_man\"].std()/np.sqrt(149)\n",
    "\n",
    "standardev = np.sqrt(stderrPrivate**2 + stderrPublic**2)\n",
    "z = ((delta_mean)/standardev)\n",
    "print(\"z = \", z)"
   ]
  },
  {
   "cell_type": "code",
   "execution_count": 207,
   "metadata": {},
   "outputs": [
    {
     "name": "stdout",
     "output_type": "stream",
     "text": [
      "0    149\n",
      "1     48\n",
      "Name: is_private, dtype: int64\n"
     ]
    }
   ],
   "source": [
    "SampleSize = dfLeaveC['is_private'].value_counts()\n",
    "print(SampleSize)"
   ]
  },
  {
   "cell_type": "markdown",
   "metadata": {},
   "source": [
    "Since 2.34 is greater than 1.96, we can reject the null hypothesis. There is sufficient evidence to believe, at the 5% significance level, that the mean leave time is different for public and private schools for male employees."
   ]
  },
  {
   "cell_type": "markdown",
   "metadata": {},
   "source": [
    "Now that I have examined the issue for male employees, I will now turn to the issue of whether there is sufficient evidence to believe, at the 5% significance level, that the mean leave time is different for public and private schools for female employees."
   ]
  },
  {
   "cell_type": "code",
   "execution_count": 208,
   "metadata": {},
   "outputs": [
    {
     "name": "stdout",
     "output_type": "stream",
     "text": [
      "Sample Mean Time for Women at Private Schools = 10.52\n",
      "Sample Mean Time for Women at Public Schools = 8.20\n"
     ]
    }
   ],
   "source": [
    "WomenPrivate = dfLeaveC.loc[dfLeaveC[\"is_private\"] == 1, \"paid_leave_weeks_woman\"].mean()\n",
    "print(\"Sample Mean Time for Women at Private Schools = {:.2f}\".format(WomenPrivate))\n",
    "WomenPublic = dfLeaveC.loc[dfLeaveC[\"is_private\"] == 0, \"paid_leave_weeks_woman\"].mean()\n",
    "print(\"Sample Mean Time for Women at Public Schools = {:.2f}\".format(WomenPublic))"
   ]
  },
  {
   "cell_type": "code",
   "execution_count": 209,
   "metadata": {},
   "outputs": [
    {
     "name": "stdout",
     "output_type": "stream",
     "text": [
      "-za =  1.95996398454\n",
      "z =  1.87069469913\n"
     ]
    }
   ],
   "source": [
    "za = stats.norm.ppf(0.025)#0.025 instead of 0.975 because we want the positive en of the spectrum\n",
    "print(\"-za = \", -za)\n",
    "\n",
    "delta_mean = WomenPrivate-WomenPublic\n",
    "\n",
    "stderrPrivate = (dfLeaveC.loc[dfLeaveC[\"is_private\"] == 1, \"paid_leave_weeks_woman\"].std())/np.sqrt(48)\n",
    "stderrPublic = (dfLeaveC.loc[dfLeaveC[\"is_private\"] == 0, \"paid_leave_weeks_woman\"].std())/np.sqrt(149)\n",
    "\n",
    "standardev = np.sqrt(stderrPrivate**2 + stderrPublic**2)\n",
    "\n",
    "z = (delta_mean)/standardev\n",
    "print(\"z = \", z)"
   ]
  },
  {
   "cell_type": "markdown",
   "metadata": {},
   "source": [
    "Since 1.87 is not greater than 1.96, we do not reject the null hypothesis. There is not sufficient evidence to believe, at the 5% significance level, that the mean leave time is different for public and private schools for female employees."
   ]
  },
  {
   "cell_type": "markdown",
   "metadata": {},
   "source": [
    "Based on the fact that in one case, but not both, we rejected the Null hypothesis, I conclude that **we do have enough evidence to claim that public and private institutions have different average paid parental leave durations.**"
   ]
  },
  {
   "cell_type": "markdown",
   "metadata": {},
   "source": [
    "**Part C**: Some institutions provide zero weeks of paid parental leave. So, for each `census_region` in the dataset, I will create a 95% confidence interval for the _proportion of universities that offer zero paid parental leave to their professors_. I will determine whether there is evidence that policies vary significantly by census region? "
   ]
  },
  {
   "cell_type": "markdown",
   "metadata": {
    "collapsed": true
   },
   "source": [
    "In order to answer this question, I will begin by analyzing each region independently.  First, I will look at Canada. To analyze the data, I will create a separate Canadian dataframe."
   ]
  },
  {
   "cell_type": "code",
   "execution_count": 210,
   "metadata": {
    "collapsed": true
   },
   "outputs": [],
   "source": [
    "web_path = ''\n",
    "file_path = web_path \n",
    "dfLeave = pd.read_table(web_path)"
   ]
  },
  {
   "cell_type": "code",
   "execution_count": 211,
   "metadata": {},
   "outputs": [
    {
     "data": {
      "text/html": [
       "<div>\n",
       "<style>\n",
       "    .dataframe thead tr:only-child th {\n",
       "        text-align: right;\n",
       "    }\n",
       "\n",
       "    .dataframe thead th {\n",
       "        text-align: left;\n",
       "    }\n",
       "\n",
       "    .dataframe tbody tr th {\n",
       "        vertical-align: top;\n",
       "    }\n",
       "</style>\n",
       "<table border=\"1\" class=\"dataframe\">\n",
       "  <thead>\n",
       "    <tr style=\"text-align: right;\">\n",
       "      <th></th>\n",
       "      <th>university_name</th>\n",
       "      <th>short_name</th>\n",
       "      <th>is_private</th>\n",
       "      <th>rank</th>\n",
       "      <th>rank_ind</th>\n",
       "      <th>census_region</th>\n",
       "      <th>missing</th>\n",
       "      <th>paid_leave_len_woman</th>\n",
       "      <th>paid_leave_len_woman_units</th>\n",
       "      <th>paid_leave_weeks_woman</th>\n",
       "      <th>relief_woman</th>\n",
       "      <th>paid_leave_len_man</th>\n",
       "      <th>paid_leave_len_man_units</th>\n",
       "      <th>paid_leave_weeks_man</th>\n",
       "      <th>relief_man</th>\n",
       "      <th>link</th>\n",
       "      <th>notes</th>\n",
       "      <th>date</th>\n",
       "    </tr>\n",
       "  </thead>\n",
       "  <tbody>\n",
       "    <tr>\n",
       "      <th>7</th>\n",
       "      <td>Carleton University</td>\n",
       "      <td>Carleton</td>\n",
       "      <td>0</td>\n",
       "      <td>101.73</td>\n",
       "      <td>93</td>\n",
       "      <td>Canada</td>\n",
       "      <td>0</td>\n",
       "      <td>12.0</td>\n",
       "      <td>week</td>\n",
       "      <td>12.0</td>\n",
       "      <td>Not specified</td>\n",
       "      <td>12.0</td>\n",
       "      <td>week</td>\n",
       "      <td>12.0</td>\n",
       "      <td>Not specified</td>\n",
       "      <td>https://carleton.ca/hr/wp-content/uploads/CUAS...</td>\n",
       "      <td>12 weeks paid + 5 weeks with the Employer payi...</td>\n",
       "      <td>2/22/18</td>\n",
       "    </tr>\n",
       "    <tr>\n",
       "      <th>18</th>\n",
       "      <td>Concordia University, Montreal</td>\n",
       "      <td>Concordia</td>\n",
       "      <td>0</td>\n",
       "      <td>138.05</td>\n",
       "      <td>139</td>\n",
       "      <td>Canada</td>\n",
       "      <td>0</td>\n",
       "      <td>20.0</td>\n",
       "      <td>week</td>\n",
       "      <td>20.0</td>\n",
       "      <td>Not specified</td>\n",
       "      <td>5.0</td>\n",
       "      <td>day</td>\n",
       "      <td>1.0</td>\n",
       "      <td>Not specified</td>\n",
       "      <td>https://www.concordia.ca/content/dam/common/do...</td>\n",
       "      <td>Mothers paid at 93% of their usual salary.</td>\n",
       "      <td>2/22/18</td>\n",
       "    </tr>\n",
       "    <tr>\n",
       "      <th>21</th>\n",
       "      <td>Dalhousie University</td>\n",
       "      <td>Dalhousie</td>\n",
       "      <td>0</td>\n",
       "      <td>139.97</td>\n",
       "      <td>142</td>\n",
       "      <td>Canada</td>\n",
       "      <td>0</td>\n",
       "      <td>0.0</td>\n",
       "      <td>NaN</td>\n",
       "      <td>0.0</td>\n",
       "      <td>NaN</td>\n",
       "      <td>0.0</td>\n",
       "      <td>NaN</td>\n",
       "      <td>0.0</td>\n",
       "      <td>NaN</td>\n",
       "      <td>https://cdn.dal.ca/content/dam/dalhousie/pdf/d...</td>\n",
       "      <td>Continuous employment, for the purpose of dete...</td>\n",
       "      <td>2/22/18</td>\n",
       "    </tr>\n",
       "    <tr>\n",
       "      <th>44</th>\n",
       "      <td>McGill University</td>\n",
       "      <td>McGill</td>\n",
       "      <td>0</td>\n",
       "      <td>69.84</td>\n",
       "      <td>56</td>\n",
       "      <td>Canada</td>\n",
       "      <td>0</td>\n",
       "      <td>31.0</td>\n",
       "      <td>week</td>\n",
       "      <td>31.0</td>\n",
       "      <td>Not specified</td>\n",
       "      <td>12.0</td>\n",
       "      <td>week</td>\n",
       "      <td>12.0</td>\n",
       "      <td>Not specified</td>\n",
       "      <td>https://www.mcgill.ca/apo/academic-staff/proce...</td>\n",
       "      <td>Policy does not mention relief type; For men a...</td>\n",
       "      <td>2/24/18</td>\n",
       "    </tr>\n",
       "    <tr>\n",
       "      <th>45</th>\n",
       "      <td>McMaster University</td>\n",
       "      <td>McMaster</td>\n",
       "      <td>0</td>\n",
       "      <td>84.01</td>\n",
       "      <td>77</td>\n",
       "      <td>Canada</td>\n",
       "      <td>0</td>\n",
       "      <td>30.0</td>\n",
       "      <td>week</td>\n",
       "      <td>30.0</td>\n",
       "      <td>All duties</td>\n",
       "      <td>19.0</td>\n",
       "      <td>week</td>\n",
       "      <td>19.0</td>\n",
       "      <td>All duties</td>\n",
       "      <td>http://www.mcmaster.ca/policy/faculty/Appointm...</td>\n",
       "      <td>.</td>\n",
       "      <td>2/24/18</td>\n",
       "    </tr>\n",
       "  </tbody>\n",
       "</table>\n",
       "</div>"
      ],
      "text/plain": [
       "                   university_name short_name  is_private    rank  rank_ind  \\\n",
       "7              Carleton University   Carleton           0  101.73        93   \n",
       "18  Concordia University, Montreal  Concordia           0  138.05       139   \n",
       "21            Dalhousie University  Dalhousie           0  139.97       142   \n",
       "44               McGill University     McGill           0   69.84        56   \n",
       "45             McMaster University   McMaster           0   84.01        77   \n",
       "\n",
       "   census_region  missing  paid_leave_len_woman paid_leave_len_woman_units  \\\n",
       "7         Canada        0                  12.0                       week   \n",
       "18        Canada        0                  20.0                       week   \n",
       "21        Canada        0                   0.0                        NaN   \n",
       "44        Canada        0                  31.0                       week   \n",
       "45        Canada        0                  30.0                       week   \n",
       "\n",
       "    paid_leave_weeks_woman   relief_woman  paid_leave_len_man  \\\n",
       "7                     12.0  Not specified                12.0   \n",
       "18                    20.0  Not specified                 5.0   \n",
       "21                     0.0            NaN                 0.0   \n",
       "44                    31.0  Not specified                12.0   \n",
       "45                    30.0     All duties                19.0   \n",
       "\n",
       "   paid_leave_len_man_units  paid_leave_weeks_man     relief_man  \\\n",
       "7                      week                  12.0  Not specified   \n",
       "18                      day                   1.0  Not specified   \n",
       "21                      NaN                   0.0            NaN   \n",
       "44                     week                  12.0  Not specified   \n",
       "45                     week                  19.0     All duties   \n",
       "\n",
       "                                                 link  \\\n",
       "7   https://carleton.ca/hr/wp-content/uploads/CUAS...   \n",
       "18  https://www.concordia.ca/content/dam/common/do...   \n",
       "21  https://cdn.dal.ca/content/dam/dalhousie/pdf/d...   \n",
       "44  https://www.mcgill.ca/apo/academic-staff/proce...   \n",
       "45  http://www.mcmaster.ca/policy/faculty/Appointm...   \n",
       "\n",
       "                                                notes     date  \n",
       "7   12 weeks paid + 5 weeks with the Employer payi...  2/22/18  \n",
       "18         Mothers paid at 93% of their usual salary.  2/22/18  \n",
       "21  Continuous employment, for the purpose of dete...  2/22/18  \n",
       "44  Policy does not mention relief type; For men a...  2/24/18  \n",
       "45                                                  .  2/24/18  "
      ]
     },
     "execution_count": 211,
     "metadata": {},
     "output_type": "execute_result"
    }
   ],
   "source": [
    "dfCanada = dfLeave.loc[dfLeave[\"census_region\"] == 'Canada'].copy()\n",
    "dfCanada.head()"
   ]
  },
  {
   "cell_type": "markdown",
   "metadata": {},
   "source": [
    "First, I will find preliminary values and then use a botstrap method to compute the confidence interval (CI), since the data for Canada is so small (<30) and non-normal."
   ]
  },
  {
   "cell_type": "code",
   "execution_count": 239,
   "metadata": {},
   "outputs": [
    {
     "name": "stdout",
     "output_type": "stream",
     "text": [
      "[ 12.  20.   0.  31.  30.   0.  35.  35.  15.   0.  18.  18.  50.  35.  30.\n",
      "  36.  23.  24.  17.]\n"
     ]
    }
   ],
   "source": [
    "dfCanada = dfCanada.dropna(subset=[\"paid_leave_len_woman\"])\n",
    "CaSample = np.array(dfCanada['paid_leave_len_woman'].tolist())\n",
    "print(CaSample)"
   ]
  },
  {
   "cell_type": "code",
   "execution_count": 241,
   "metadata": {},
   "outputs": [
    {
     "name": "stdout",
     "output_type": "stream",
     "text": [
      "Lower CI: 0.0\n",
      "Upper CI: 0.315789473684\n"
     ]
    }
   ],
   "source": [
    "c = []\n",
    "num_boots=5000\n",
    "b = np.array([(np.random.choice(CaSample, replace=True, size=len(CaSample))) for ii in range(num_boots)])\n",
    "for sample in b:\n",
    "    zero_els = len(sample) - np.count_nonzero(sample)\n",
    "    # get the proportion for the sample\n",
    "    p = zero_els/len(sample)\n",
    "    # append that proportion to c\n",
    "    c.append(p)\n",
    "\n",
    "L, U = np.percentile(c, 2.5), np.percentile(c, 97.5)\n",
    "CI = np.array([L, U])\n",
    "\n",
    "print(\"Lower CI:\", L)\n",
    "print(\"Upper CI:\", U)"
   ]
  },
  {
   "cell_type": "markdown",
   "metadata": {},
   "source": [
    "Now, I will conduct a similar test for the north eastern region, but this time using z-values for the C.I."
   ]
  },
  {
   "cell_type": "code",
   "execution_count": 242,
   "metadata": {
    "collapsed": true
   },
   "outputs": [],
   "source": [
    "dfNorth = dfLeave.loc[dfLeave[\"census_region\"] == 'Northeast'].copy()"
   ]
  },
  {
   "cell_type": "code",
   "execution_count": 243,
   "metadata": {},
   "outputs": [
    {
     "name": "stdout",
     "output_type": "stream",
     "text": [
      "Total number of north-eastern schools in data set: 45\n",
      "Number of these institutions that actually have no parental leave: 13\n"
     ]
    }
   ],
   "source": [
    "NorTotal = dfNorth.shape[0]\n",
    "print(\"Total number of north-eastern schools in data set:\", NorTotal)\n",
    "NorNo = dfNorth.loc[dfNorth.paid_leave_len_woman == 0.0, \"paid_leave_len_woman\"].count()\n",
    "print(\"Number of these institutions that actually have no parental leave:\", NorNo)"
   ]
  },
  {
   "cell_type": "code",
   "execution_count": 244,
   "metadata": {
    "collapsed": true
   },
   "outputs": [],
   "source": [
    "NorProp = (NorNo/NorTotal)\n",
    "z = stats.norm.ppf(0.975)\n",
    "pn = NorProp"
   ]
  },
  {
   "cell_type": "code",
   "execution_count": 245,
   "metadata": {},
   "outputs": [
    {
     "name": "stdout",
     "output_type": "stream",
     "text": [
      "Lower CI: 0.156462058118\n",
      "Upper CI: 0.421315719659\n"
     ]
    }
   ],
   "source": [
    "stderrn = np.sqrt((pn*(1-pn))/NorTotal)\n",
    "\n",
    "Norlower = NorProp - (z)*(stderrn)\n",
    "Norupper = NorProp + (z)*(stderrn)\n",
    "print(\"Lower CI:\", Norlower)\n",
    "print(\"Upper CI:\", Norupper)"
   ]
  },
  {
   "cell_type": "markdown",
   "metadata": {},
   "source": [
    "Now, I will conduct a similar test for the midwest region and this time using z-values for the C.I."
   ]
  },
  {
   "cell_type": "code",
   "execution_count": 246,
   "metadata": {
    "collapsed": true
   },
   "outputs": [],
   "source": [
    "dfMid = dfLeave.loc[dfLeave[\"census_region\"] == 'Midwest'].copy()"
   ]
  },
  {
   "cell_type": "code",
   "execution_count": 247,
   "metadata": {},
   "outputs": [
    {
     "name": "stdout",
     "output_type": "stream",
     "text": [
      "Total number of midwestern schools in data set: 38\n",
      "Number of these institutions that actually have no parental leave: 16\n"
     ]
    }
   ],
   "source": [
    "MidTotal = dfMid.shape[0]\n",
    "print(\"Total number of midwestern schools in data set:\", MidTotal)\n",
    "MidNo = dfMid.loc[dfMid.paid_leave_len_woman == 0.0, \"paid_leave_len_woman\"].count()\n",
    "print(\"Number of these institutions that actually have no parental leave:\", MidNo)"
   ]
  },
  {
   "cell_type": "code",
   "execution_count": 248,
   "metadata": {
    "collapsed": true
   },
   "outputs": [],
   "source": [
    "MidProp = (MidNo/MidTotal)\n",
    "z = stats.norm.ppf(0.975)\n",
    "pm = MidProp"
   ]
  },
  {
   "cell_type": "code",
   "execution_count": 249,
   "metadata": {},
   "outputs": [
    {
     "name": "stdout",
     "output_type": "stream",
     "text": [
      "Lower CI: 0.264072738901\n",
      "Upper CI: 0.578032524257\n"
     ]
    }
   ],
   "source": [
    "stderrm = np.sqrt((pm*(1-pm))/MidTotal)\n",
    "\n",
    "Midlower = MidProp - (z)*(stderrm)\n",
    "Midupper = MidProp + (z)*(stderrm)\n",
    "print(\"Lower CI:\", Midlower)\n",
    "print(\"Upper CI:\", Midupper)"
   ]
  },
  {
   "cell_type": "markdown",
   "metadata": {},
   "source": [
    "Now, I will conduct a similar test for the southern region, using z-values for the C.I."
   ]
  },
  {
   "cell_type": "code",
   "execution_count": 250,
   "metadata": {},
   "outputs": [
    {
     "data": {
      "text/html": [
       "<div>\n",
       "<style>\n",
       "    .dataframe thead tr:only-child th {\n",
       "        text-align: right;\n",
       "    }\n",
       "\n",
       "    .dataframe thead th {\n",
       "        text-align: left;\n",
       "    }\n",
       "\n",
       "    .dataframe tbody tr th {\n",
       "        vertical-align: top;\n",
       "    }\n",
       "</style>\n",
       "<table border=\"1\" class=\"dataframe\">\n",
       "  <thead>\n",
       "    <tr style=\"text-align: right;\">\n",
       "      <th></th>\n",
       "      <th>university_name</th>\n",
       "      <th>short_name</th>\n",
       "      <th>is_private</th>\n",
       "      <th>rank</th>\n",
       "      <th>rank_ind</th>\n",
       "      <th>census_region</th>\n",
       "      <th>missing</th>\n",
       "      <th>paid_leave_len_woman</th>\n",
       "      <th>paid_leave_len_woman_units</th>\n",
       "      <th>paid_leave_weeks_woman</th>\n",
       "      <th>relief_woman</th>\n",
       "      <th>paid_leave_len_man</th>\n",
       "      <th>paid_leave_len_man_units</th>\n",
       "      <th>paid_leave_weeks_man</th>\n",
       "      <th>relief_man</th>\n",
       "      <th>link</th>\n",
       "      <th>notes</th>\n",
       "      <th>date</th>\n",
       "    </tr>\n",
       "  </thead>\n",
       "  <tbody>\n",
       "    <tr>\n",
       "      <th>1</th>\n",
       "      <td>Auburn University</td>\n",
       "      <td>Auburn</td>\n",
       "      <td>0</td>\n",
       "      <td>126.69</td>\n",
       "      <td>122</td>\n",
       "      <td>South</td>\n",
       "      <td>0</td>\n",
       "      <td>0.0</td>\n",
       "      <td>NaN</td>\n",
       "      <td>0.0</td>\n",
       "      <td>NaN</td>\n",
       "      <td>0.0</td>\n",
       "      <td>NaN</td>\n",
       "      <td>0.0</td>\n",
       "      <td>NaN</td>\n",
       "      <td>https://cws.auburn.edu/shared/content/files/85/</td>\n",
       "      <td>FMLA</td>\n",
       "      <td>2/22/18</td>\n",
       "    </tr>\n",
       "    <tr>\n",
       "      <th>10</th>\n",
       "      <td>Catholic University of America</td>\n",
       "      <td>Catholic Univ. of America</td>\n",
       "      <td>1</td>\n",
       "      <td>151.04</td>\n",
       "      <td>158</td>\n",
       "      <td>South</td>\n",
       "      <td>0</td>\n",
       "      <td>0.0</td>\n",
       "      <td>NaN</td>\n",
       "      <td>0.0</td>\n",
       "      <td>NaN</td>\n",
       "      <td>0.0</td>\n",
       "      <td>NaN</td>\n",
       "      <td>0.0</td>\n",
       "      <td>NaN</td>\n",
       "      <td>http://policies.cua.edu/employment/compensatio...</td>\n",
       "      <td>Up to sixteen (16) weeks unpaid leave in any t...</td>\n",
       "      <td>2/22/18</td>\n",
       "    </tr>\n",
       "    <tr>\n",
       "      <th>13</th>\n",
       "      <td>Clemson University</td>\n",
       "      <td>Clemson</td>\n",
       "      <td>0</td>\n",
       "      <td>151.45</td>\n",
       "      <td>159</td>\n",
       "      <td>South</td>\n",
       "      <td>0</td>\n",
       "      <td>1.0</td>\n",
       "      <td>term</td>\n",
       "      <td>16.0</td>\n",
       "      <td>Other</td>\n",
       "      <td>1.0</td>\n",
       "      <td>term</td>\n",
       "      <td>16.0</td>\n",
       "      <td>Other</td>\n",
       "      <td>http://media.clemson.edu/humanres/policies_pro...</td>\n",
       "      <td>Faculty will 'be given modified duties that ar...</td>\n",
       "      <td>2/22/18</td>\n",
       "    </tr>\n",
       "    <tr>\n",
       "      <th>14</th>\n",
       "      <td>College of William and Mary</td>\n",
       "      <td>William and Mary</td>\n",
       "      <td>0</td>\n",
       "      <td>75.20</td>\n",
       "      <td>62</td>\n",
       "      <td>South</td>\n",
       "      <td>0</td>\n",
       "      <td>120.0</td>\n",
       "      <td>day</td>\n",
       "      <td>24.0</td>\n",
       "      <td>Not specified</td>\n",
       "      <td>120.0</td>\n",
       "      <td>day</td>\n",
       "      <td>24.0</td>\n",
       "      <td>Not specified</td>\n",
       "      <td>https://www.wm.edu/about/administration/provos...</td>\n",
       "      <td>'available only when the faculty member is the...</td>\n",
       "      <td>2/22/18</td>\n",
       "    </tr>\n",
       "    <tr>\n",
       "      <th>25</th>\n",
       "      <td>Duke University</td>\n",
       "      <td>Duke</td>\n",
       "      <td>1</td>\n",
       "      <td>30.50</td>\n",
       "      <td>29</td>\n",
       "      <td>South</td>\n",
       "      <td>0</td>\n",
       "      <td>1.0</td>\n",
       "      <td>term</td>\n",
       "      <td>17.0</td>\n",
       "      <td>Not specified</td>\n",
       "      <td>1.0</td>\n",
       "      <td>term</td>\n",
       "      <td>17.0</td>\n",
       "      <td>Not specified</td>\n",
       "      <td>https://provost.duke.edu/sites/all/files/FHB_C...</td>\n",
       "      <td>'must indicate in writing to the dean and/or p...</td>\n",
       "      <td>2/22/18</td>\n",
       "    </tr>\n",
       "  </tbody>\n",
       "</table>\n",
       "</div>"
      ],
      "text/plain": [
       "                   university_name                 short_name  is_private  \\\n",
       "1                Auburn University                     Auburn           0   \n",
       "10  Catholic University of America  Catholic Univ. of America           1   \n",
       "13              Clemson University                    Clemson           0   \n",
       "14     College of William and Mary           William and Mary           0   \n",
       "25                 Duke University                       Duke           1   \n",
       "\n",
       "      rank  rank_ind census_region  missing  paid_leave_len_woman  \\\n",
       "1   126.69       122         South        0                   0.0   \n",
       "10  151.04       158         South        0                   0.0   \n",
       "13  151.45       159         South        0                   1.0   \n",
       "14   75.20        62         South        0                 120.0   \n",
       "25   30.50        29         South        0                   1.0   \n",
       "\n",
       "   paid_leave_len_woman_units  paid_leave_weeks_woman   relief_woman  \\\n",
       "1                         NaN                     0.0            NaN   \n",
       "10                        NaN                     0.0            NaN   \n",
       "13                       term                    16.0          Other   \n",
       "14                        day                    24.0  Not specified   \n",
       "25                       term                    17.0  Not specified   \n",
       "\n",
       "    paid_leave_len_man paid_leave_len_man_units  paid_leave_weeks_man  \\\n",
       "1                  0.0                      NaN                   0.0   \n",
       "10                 0.0                      NaN                   0.0   \n",
       "13                 1.0                     term                  16.0   \n",
       "14               120.0                      day                  24.0   \n",
       "25                 1.0                     term                  17.0   \n",
       "\n",
       "       relief_man                                               link  \\\n",
       "1             NaN    https://cws.auburn.edu/shared/content/files/85/   \n",
       "10            NaN  http://policies.cua.edu/employment/compensatio...   \n",
       "13          Other  http://media.clemson.edu/humanres/policies_pro...   \n",
       "14  Not specified  https://www.wm.edu/about/administration/provos...   \n",
       "25  Not specified  https://provost.duke.edu/sites/all/files/FHB_C...   \n",
       "\n",
       "                                                notes     date  \n",
       "1                                                FMLA  2/22/18  \n",
       "10  Up to sixteen (16) weeks unpaid leave in any t...  2/22/18  \n",
       "13  Faculty will 'be given modified duties that ar...  2/22/18  \n",
       "14  'available only when the faculty member is the...  2/22/18  \n",
       "25  'must indicate in writing to the dean and/or p...  2/22/18  "
      ]
     },
     "execution_count": 250,
     "metadata": {},
     "output_type": "execute_result"
    }
   ],
   "source": [
    "dfSouth = dfLeave.loc[dfLeave[\"census_region\"] == 'South'].copy()\n",
    "dfSouth = dfSouth.loc[dfSouth[\"missing\"]!=1]\n",
    "dfSouth.head()"
   ]
  },
  {
   "cell_type": "code",
   "execution_count": 251,
   "metadata": {},
   "outputs": [
    {
     "name": "stdout",
     "output_type": "stream",
     "text": [
      "Total number of southern schools in data set: 58\n",
      "Number of these institutions that actually have no parental leave: 32\n"
     ]
    }
   ],
   "source": [
    "SouthTotal = dfSouth.shape[0]\n",
    "print(\"Total number of southern schools in data set:\", SouthTotal)\n",
    "SouthNo = dfSouth.loc[dfSouth.paid_leave_len_woman == 0.0, \"paid_leave_len_woman\"].count()\n",
    "print(\"Number of these institutions that actually have no parental leave:\", SouthNo)"
   ]
  },
  {
   "cell_type": "code",
   "execution_count": 252,
   "metadata": {},
   "outputs": [
    {
     "name": "stdout",
     "output_type": "stream",
     "text": [
      "1.95996398454\n"
     ]
    }
   ],
   "source": [
    "SProp = SouthNo/SouthTotal\n",
    "z = stats.norm.ppf(0.975)\n",
    "print(z)"
   ]
  },
  {
   "cell_type": "code",
   "execution_count": 253,
   "metadata": {},
   "outputs": [
    {
     "name": "stdout",
     "output_type": "stream",
     "text": [
      "0.0653009760654\n"
     ]
    }
   ],
   "source": [
    "ps = SProp\n",
    "stderrs = np.sqrt((ps*(1-ps))/SouthTotal)\n",
    "print(stderrs)"
   ]
  },
  {
   "cell_type": "code",
   "execution_count": 254,
   "metadata": {},
   "outputs": [
    {
     "name": "stdout",
     "output_type": "stream",
     "text": [
      "Upper CI: 0.679711699174\n",
      "Lower CI: 0.423736576688\n"
     ]
    }
   ],
   "source": [
    "#upper ci\n",
    "uciS = SProp + (z)*(stderrs)\n",
    "print(\"Upper CI:\", uciS)\n",
    "\n",
    "#lower ci\n",
    "lciS = SProp - (z)*(stderrs)\n",
    "print(\"Lower CI:\", lciS)"
   ]
  },
  {
   "cell_type": "markdown",
   "metadata": {},
   "source": [
    "Now, I will conduct a similar test for the western region, using z-values for the C.I."
   ]
  },
  {
   "cell_type": "code",
   "execution_count": 255,
   "metadata": {
    "collapsed": true
   },
   "outputs": [],
   "source": [
    "dfWest = dfLeave.loc[dfLeave[\"census_region\"] == 'West'].copy()"
   ]
  },
  {
   "cell_type": "code",
   "execution_count": 256,
   "metadata": {},
   "outputs": [
    {
     "name": "stdout",
     "output_type": "stream",
     "text": [
      "Total number of western schools in data set: 40\n",
      "Number of these institutions that actually have no parental leave: 12\n"
     ]
    }
   ],
   "source": [
    "WestTotal = dfWest.shape[0]\n",
    "print(\"Total number of western schools in data set:\", WestTotal)\n",
    "WestNo = dfWest.loc[dfWest.paid_leave_len_woman == 0.0, \"paid_leave_len_woman\"].count()\n",
    "print(\"Number of these institutions that actually have no parental leave:\", WestNo)"
   ]
  },
  {
   "cell_type": "code",
   "execution_count": 257,
   "metadata": {},
   "outputs": [
    {
     "name": "stdout",
     "output_type": "stream",
     "text": [
      "1.95996398454\n"
     ]
    }
   ],
   "source": [
    "WProp = WestNo/WestTotal\n",
    "z = stats.norm.ppf(0.975)\n",
    "print(z)"
   ]
  },
  {
   "cell_type": "code",
   "execution_count": 258,
   "metadata": {},
   "outputs": [
    {
     "name": "stdout",
     "output_type": "stream",
     "text": [
      "0.0724568837309\n"
     ]
    }
   ],
   "source": [
    "pw = WProp\n",
    "stderrw = np.sqrt((pw*(1-pw))/WestTotal)\n",
    "print(stderrw)"
   ]
  },
  {
   "cell_type": "code",
   "execution_count": 259,
   "metadata": {},
   "outputs": [
    {
     "name": "stdout",
     "output_type": "stream",
     "text": [
      "Upper CI: 0.442012882545\n",
      "LOwer CI: 0.157987117455\n"
     ]
    }
   ],
   "source": [
    "#upper ci\n",
    "uciW = WProp + (z)*(stderrw)\n",
    "print(\"Upper CI:\", uciW)\n",
    "\n",
    "#lower ci\n",
    "lciW = WProp - (z)*(stderrw)\n",
    "print(\"LOwer CI:\", lciW)"
   ]
  },
  {
   "cell_type": "markdown",
   "metadata": {},
   "source": [
    "Now that I have calculated the C.I.s for all regions, I will now plot them as vertical bars in a single plot below."
   ]
  },
  {
   "cell_type": "code",
   "execution_count": 260,
   "metadata": {},
   "outputs": [
    {
     "data": {
      "image/png": "[encoded data removed]",
      "text/plain": [
       "<matplotlib.figure.Figure at 0x1079c4ef0>"
      ]
     },
     "metadata": {},
     "output_type": "display_data"
    }
   ],
   "source": [
    "S = 5\n",
    "upper_CI = (U, Norupper, Midupper, uciS, uciW)\n",
    "lower_CI = (L, Norlower, Midlower, lciS, lciW)\n",
    "fig, ax = plt.subplots(figsize=(10,6))\n",
    "ind = np.arange(S) \n",
    "width = 0.32       \n",
    "plt.bar(ind, upper_CI, width, label='Upper', color = \"xkcd:french blue\")\n",
    "plt.bar(ind + width, lower_CI, width, label='Lower', color = \"xkcd:coral\")\n",
    "\n",
    "plt.ylabel('CI Values')\n",
    "plt.xlabel(\"Region\")\n",
    "plt.title('Confidence Intervals for Census Regions')\n",
    "\n",
    "plt.xticks(ind + width / 2, ('Canda', 'North-East', 'Midwest', 'South', 'West'))\n",
    "plt.legend(loc='best')\n",
    "ax.set_facecolor('xkcd:pale grey')\n",
    "plt.show()"
   ]
  },
  {
   "cell_type": "markdown",
   "metadata": {},
   "source": [
    "**Conclusion**: From the data, I conclude that regional differneces do play a role in whether institutions offer paid parental leave to their professors. If we look at the Canadian CIs, we immediately notice that there is virtually no overlap with the CIs of other regions. Therefore, the pairwise comparison of Canada to other census regions indicates that there is a real difference. This also seems to be the case for the Southern region. Again, there is little or no overlap in that case when compared with other regions. \n",
    "\n",
    "However, there is a great deal of overlap with respect to other census regions, particularly in the North-Eastern and Western census regions. Therefore, it is very difficult to draw a meaningful conclusion about these census regions when comparing them with one another. There is also some overlap with the Midwest region and the other US regions, but the overlap in this case is not as pronounced as it is between, say, the West and North-East. "
   ]
  },
  {
   "cell_type": "code",
   "execution_count": null,
   "metadata": {},
   "outputs": [],
   "source": []
  }
 ],
 "metadata": {
  "kernelspec": {
   "display_name": "Python 3",
   "language": "python",
   "name": "python3"
  },
  "language_info": {
   "codemirror_mode": {
    "name": "ipython",
    "version": 3
   },
   "file_extension": ".py",
   "mimetype": "text/x-python",
   "name": "python",
   "nbconvert_exporter": "python",
   "pygments_lexer": "ipython3",
   "version": "3.7.3"
  }
 },
 "nbformat": 4,
 "nbformat_minor": 2
}
